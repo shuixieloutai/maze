{
 "cells": [
  {
   "cell_type": "code",
   "execution_count": 42,
   "id": "700f5e81",
   "metadata": {},
   "outputs": [],
   "source": [
    "import sys\n",
    "\n",
    "def MazeReader(file_path):\n",
    "    with open(file_path) as f:\n",
    "        lines=f.readlines()\n",
    "        #remove the '\\n'，replace with ''\n",
    "        for i in range(len(lines)):\n",
    "            lines[i]=lines[i].replace('\\n','')\n",
    "            \n",
    "    return lines\n",
    "    \n",
    "def fromchart(c):\n",
    "    if c=='#':\n",
    "        a=0\n",
    "    elif c=='.':\n",
    "        a=1\n",
    "    elif c=='o':\n",
    "        a=2\n",
    "    elif c=='*':\n",
    "        a=3\n",
    "    else:\n",
    "        print('IllegalArgumentException')\n",
    "        sys.exit()\n",
    "    return a\n",
    "\n",
    "def draw_raw(lines):\n",
    "    print('maze:')\n",
    "    for line in lines:\n",
    "        print(line)"
   ]
  },
  {
   "cell_type": "code",
   "execution_count": 43,
   "id": "2144f871",
   "metadata": {},
   "outputs": [
    {
     "name": "stdout",
     "output_type": "stream",
     "text": [
      "maze:\n",
      "############\n",
      "#.#........#\n",
      "#.#.######.#\n",
      "#.#....#...#\n",
      "#.###.*#.#.#\n",
      "#...####.#.#\n",
      "#.#.#..#.#.#\n",
      "#.#.#.##.#.#\n",
      "#o#......#.#\n",
      "############\n"
     ]
    }
   ],
   "source": [
    "import numpy as np\n",
    "import sys\n",
    "\n",
    "file_path='maze-2.txt'\n",
    "\n",
    "lines=MazeReader(file_path)\n",
    "\n",
    "draw_raw(lines)\n",
    "\n",
    "#genernate a matrix of the graph\n",
    "a=len(lines)\n",
    "b=len(lines[a-1])\n",
    "maze=5*np.ones([a,b])\n",
    "#print(maze)\n",
    "\n",
    "for i in range(a):\n",
    "    for j in range(b):\n",
    "        c=lines[i][j]\n",
    "        maze[i,j]=fromchart(c)\n",
    "#print(maze)\n"
   ]
  },
  {
   "cell_type": "code",
   "execution_count": 76,
   "id": "63668f5b",
   "metadata": {},
   "outputs": [
    {
     "name": "stdout",
     "output_type": "stream",
     "text": [
      "[[0. 0. 0. 0. 0. 0. 0. 0. 0. 0. 0. 0.]\n",
      " [0. 1. 0. 1. 1. 1. 1. 1. 1. 1. 1. 0.]\n",
      " [0. 1. 0. 1. 0. 0. 0. 0. 0. 0. 1. 0.]\n",
      " [0. 1. 0. 1. 1. 1. 1. 0. 1. 1. 1. 0.]\n",
      " [0. 1. 0. 0. 0. 1. 3. 0. 1. 0. 1. 0.]\n",
      " [0. 1. 1. 1. 0. 0. 0. 0. 1. 0. 1. 0.]\n",
      " [0. 1. 0. 1. 0. 1. 1. 0. 1. 0. 1. 0.]\n",
      " [0. 1. 0. 1. 0. 1. 0. 0. 1. 0. 1. 0.]\n",
      " [0. 2. 0. 1. 1. 1. 1. 1. 1. 0. 1. 0.]\n",
      " [0. 0. 0. 0. 0. 0. 0. 0. 0. 0. 0. 0.]]\n"
     ]
    }
   ],
   "source": [
    "print(maze)"
   ]
  },
  {
   "cell_type": "code",
   "execution_count": null,
   "id": "c9380e9e",
   "metadata": {},
   "outputs": [],
   "source": []
  }
 ],
 "metadata": {
  "kernelspec": {
   "display_name": "Python 3",
   "language": "python",
   "name": "python3"
  },
  "language_info": {
   "codemirror_mode": {
    "name": "ipython",
    "version": 3
   },
   "file_extension": ".py",
   "mimetype": "text/x-python",
   "name": "python",
   "nbconvert_exporter": "python",
   "pygments_lexer": "ipython3",
   "version": "3.6.13"
  }
 },
 "nbformat": 4,
 "nbformat_minor": 5
}
